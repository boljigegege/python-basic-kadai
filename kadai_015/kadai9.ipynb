{
  "nbformat": 4,
  "nbformat_minor": 0,
  "metadata": {
    "colab": {
      "provenance": []
    },
    "kernelspec": {
      "name": "python3",
      "display_name": "Python 3"
    },
    "language_info": {
      "name": "python"
    }
  },
  "cells": [
    {
      "cell_type": "code",
      "execution_count": 25,
      "metadata": {
        "colab": {
          "base_uri": "https://localhost:8080/"
        },
        "id": "obF8Rgs52A3e",
        "outputId": "3fde78fa-e1ef-41d1-e473-ffb56633992b"
      },
      "outputs": [
        {
          "output_type": "stream",
          "name": "stdout",
          "text": [
            "渡辺太郎\n",
            "41\n"
          ]
        }
      ],
      "source": [
        "class Human:\n",
        "  def  init  (self, name, age):\n",
        "      self.name = name\n",
        "      self.age = age\n",
        "\n",
        "  def printinfo(self, name, age):\n",
        "      print(name)\n",
        "      print(age)\n",
        "\n",
        "human=Human()\n",
        "human.printinfo(\"渡辺太郎\", 41)"
      ]
    }
  ]
}