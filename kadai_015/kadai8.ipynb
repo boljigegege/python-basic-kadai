{
  "nbformat": 4,
  "nbformat_minor": 0,
  "metadata": {
    "colab": {
      "provenance": []
    },
    "kernelspec": {
      "name": "python3",
      "display_name": "Python 3"
    },
    "language_info": {
      "name": "python"
    }
  },
  "cells": [
    {
      "cell_type": "code",
      "execution_count": 29,
      "metadata": {
        "colab": {
          "base_uri": "https://localhost:8080/"
        },
        "id": "vVmpgEkaKuUK",
        "outputId": "bcb4baca-3d13-4b32-b23b-ead9d4e05fba"
      },
      "outputs": [
        {
          "output_type": "stream",
          "name": "stdout",
          "text": [
            "渡辺太郎\n",
            "41\n"
          ]
        }
      ],
      "source": [
        "class Human:\n",
        "    def  init  (self,name,age):\n",
        "       self.name=\"\"\n",
        "       self.age=\"\"\n",
        "\n",
        "    def printinfo(self,name,age):\n",
        "       self.name=name\n",
        "       self.age=age\n",
        "       print(self.name)\n",
        "       print(self.age)\n",
        "\n",
        "human=Human()\n",
        "human.printinfo(\"渡辺太郎\",41)\n"
      ]
    }
  ]
}