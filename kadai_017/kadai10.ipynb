{
  "nbformat": 4,
  "nbformat_minor": 0,
  "metadata": {
    "colab": {
      "provenance": []
    },
    "kernelspec": {
      "name": "python3",
      "display_name": "Python 3"
    },
    "language_info": {
      "name": "python"
    }
  },
  "cells": [
    {
      "cell_type": "code",
      "execution_count": 9,
      "metadata": {
        "id": "BUFxrs3v8VGz",
        "colab": {
          "base_uri": "https://localhost:8080/"
        },
        "outputId": "c07e0de4-e9e2-4ba0-bbb1-542de2b1f525"
      },
      "outputs": [
        {
          "output_type": "stream",
          "name": "stdout",
          "text": [
            "侍太郎は大人ではない\n",
            "侍一郎は大人である\n",
            "侍花子は大人である\n",
            "侍二郎は大人ではない\n",
            "侍三郎は大人である\n"
          ]
        }
      ],
      "source": [
        "class Human:\n",
        "  def __init__(self, name, age):\n",
        "    self.name=name\n",
        "    self.age=age\n",
        "\n",
        "  def check_adult(self):\n",
        "    if self.age >= 20:\n",
        "       print(f\"{self.name}は大人である\")\n",
        "    if self.age < 20:\n",
        "       print(f\"{self.name}は大人ではない\")\n",
        "\n",
        "H1=Human(\"侍太郎\", 14)\n",
        "H2=Human(\"侍一郎\", 27)\n",
        "H3=Human(\"侍花子\", 21)\n",
        "H4=Human(\"侍二郎\", 19)\n",
        "H5=Human(\"侍三郎\", 34)\n",
        "\n",
        "H1.check_adult()\n",
        "H2.check_adult()\n",
        "H3.check_adult()\n",
        "H4.check_adult()\n",
        "H5.check_adult()"
      ]
    }
  ]
}