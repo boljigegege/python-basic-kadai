{
  "nbformat": 4,
  "nbformat_minor": 0,
  "metadata": {
    "colab": {
      "provenance": []
    },
    "kernelspec": {
      "name": "python3",
      "display_name": "Python 3"
    },
    "language_info": {
      "name": "python"
    }
  },
  "cells": [
    {
      "cell_type": "code",
      "execution_count": 14,
      "metadata": {
        "id": "BUFxrs3v8VGz",
        "colab": {
          "base_uri": "https://localhost:8080/"
        },
        "outputId": "07db3b04-c84a-4b97-cd02-5a059b2ba66f"
      },
      "outputs": [
        {
          "output_type": "stream",
          "name": "stdout",
          "text": [
            "侍太郎は大人ではない\n",
            "侍一郎は大人である\n",
            "侍花子は大人である\n",
            "侍二郎は大人ではない\n",
            "侍三郎は大人である\n"
          ]
        }
      ],
      "source": [
        "class Human:\n",
        "  def __init__(self, name, age):\n",
        "    self.name=name\n",
        "    self.age=age\n",
        "\n",
        "  def check_adult(self):\n",
        "    if self.age >= 20:\n",
        "       print(f\"{self.name}は大人である\")\n",
        "    if self.age < 20:\n",
        "       print(f\"{self.name}は大人ではない\")\n",
        "\n",
        "H1=Human(\"侍太郎\", 14)\n",
        "H2=Human(\"侍一郎\", 27)\n",
        "H3=Human(\"侍花子\", 21)\n",
        "H4=Human(\"侍二郎\", 19)\n",
        "H5=Human(\"侍三郎\", 34)\n",
        "\n",
        "human_list=[H1,H2,H3,H4,H5]\n",
        "\n",
        "for H in human_list:\n",
        "  H.check_adult()\n"
      ]
    }
  ]
}